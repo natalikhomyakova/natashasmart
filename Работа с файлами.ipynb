{
 "cells": [
  {
   "cell_type": "code",
   "execution_count": 5,
   "metadata": {},
   "outputs": [],
   "source": [
    "import json\n",
    "dic = {}\n",
    "f = open('purchase_log.txt', 'r', encoding='utf-8')\n",
    "next(f)\n",
    "file = f.readlines()\n",
    "for x in file:\n",
    "    d = json.loads(x)\n",
    "    dic[d['user_id']] = d['category']\n",
    "f.close()\n",
    "\n",
    "out = open('funnel.csv', 'w')\n",
    "log = []\n",
    "with open('visit_log.csv', 'r', encoding='utf-8') as visit:\n",
    "    for line in visit:\n",
    "        x = line.strip().split(',')\n",
    "        if x[0] in dic.keys():\n",
    "            log.append(','.join(x) + ',' + dic.get(x[0]) + '\\n')\n",
    "            out.write(','.join(x) + ',' + dic.get(x[0]) + '\\n')\n",
    "        else:\n",
    "            log.append(','.join(x)+'\\n')\n",
    "visit.close()\n",
    "out.close()\n",
    "visit = open('visit_log.csv', 'w')\n",
    "for x in log:\n",
    "    visit.write(x)\n",
    "visit.close()"
   ]
  },
  {
   "cell_type": "code",
   "execution_count": null,
   "metadata": {},
   "outputs": [],
   "source": []
  }
 ],
 "metadata": {
  "kernelspec": {
   "display_name": "Python 3",
   "language": "python",
   "name": "python3"
  },
  "language_info": {
   "codemirror_mode": {
    "name": "ipython",
    "version": 3
   },
   "file_extension": ".py",
   "mimetype": "text/x-python",
   "name": "python",
   "nbconvert_exporter": "python",
   "pygments_lexer": "ipython3",
   "version": "3.7.4"
  }
 },
 "nbformat": 4,
 "nbformat_minor": 4
}
